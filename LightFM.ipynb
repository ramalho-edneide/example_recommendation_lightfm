{
 "cells": [
  {
   "cell_type": "markdown",
   "id": "214a557a",
   "metadata": {},
   "source": [
    "# 1. Imports"
   ]
  },
  {
   "cell_type": "code",
   "execution_count": 21,
   "id": "2cab95d1",
   "metadata": {},
   "outputs": [],
   "source": [
    "#pip install lightfm\n",
    "#pip install scikit_optimize\n",
    "#pip install pandas-profiling"
   ]
  },
  {
   "cell_type": "code",
   "execution_count": 22,
   "id": "311adc89",
   "metadata": {},
   "outputs": [],
   "source": [
    "# import dependent libraries\n",
    "import pandas as pd\n",
    "import os\n",
    "from scipy.sparse import csr_matrix\n",
    "import numpy as np\n",
    "from IPython.display import display_html\n",
    "import warnings\n",
    "\n",
    "import matplotlib.pyplot as plt\n",
    "from matplotlib.gridspec import GridSpec\n",
    "import seaborn as sns\n",
    "%matplotlib inline\n",
    "\n",
    "from lightfm.cross_validation import random_train_test_split\n",
    "from lightfm.evaluation import auc_score, precision_at_k, recall_at_k\n",
    "from lightfm import LightFM\n",
    "from skopt import forest_minimize\n",
    "\n",
    "def display_side_by_side(*args):\n",
    "    html_str = ''\n",
    "    for df in args:\n",
    "        html_str += df.to_html()\n",
    "    display_html(html_str.replace(\n",
    "        'table', 'table style=\"display:inline\"'), raw=True)"
   ]
  },
  {
   "cell_type": "markdown",
   "id": "40ea34b4",
   "metadata": {},
   "source": [
    "# 2. Data"
   ]
  },
  {
   "cell_type": "code",
   "execution_count": 23,
   "id": "e9b3ac24",
   "metadata": {},
   "outputs": [
    {
     "name": "stdout",
     "output_type": "stream",
     "text": [
      "CPU times: total: 33.4 s\n",
      "Wall time: 34.2 s\n"
     ]
    }
   ],
   "source": [
    "%%time\n",
    "books_metadata = pd.read_json('data/goodreads_books_poetry.json', lines=True)\n",
    "interactions = pd.read_json('data/goodreads_interactions_poetry.json', lines=True)"
   ]
  },
  {
   "cell_type": "markdown",
   "id": "bebe5881",
   "metadata": {},
   "source": [
    "# 3. Data Inspection & Preparation"
   ]
  },
  {
   "cell_type": "code",
   "execution_count": 24,
   "id": "e93c5054",
   "metadata": {},
   "outputs": [
    {
     "data": {
      "text/html": [
       "<div>\n",
       "<style scoped>\n",
       "    .dataframe tbody tr th:only-of-type {\n",
       "        vertical-align: middle;\n",
       "    }\n",
       "\n",
       "    .dataframe tbody tr th {\n",
       "        vertical-align: top;\n",
       "    }\n",
       "\n",
       "    .dataframe thead th {\n",
       "        text-align: right;\n",
       "    }\n",
       "</style>\n",
       "<table border=\"1\" class=\"dataframe\">\n",
       "  <thead>\n",
       "    <tr style=\"text-align: right;\">\n",
       "      <th></th>\n",
       "      <th>isbn</th>\n",
       "      <th>text_reviews_count</th>\n",
       "      <th>series</th>\n",
       "      <th>country_code</th>\n",
       "      <th>language_code</th>\n",
       "      <th>popular_shelves</th>\n",
       "      <th>asin</th>\n",
       "      <th>is_ebook</th>\n",
       "      <th>average_rating</th>\n",
       "      <th>kindle_asin</th>\n",
       "      <th>...</th>\n",
       "      <th>publication_month</th>\n",
       "      <th>edition_information</th>\n",
       "      <th>publication_year</th>\n",
       "      <th>url</th>\n",
       "      <th>image_url</th>\n",
       "      <th>book_id</th>\n",
       "      <th>ratings_count</th>\n",
       "      <th>work_id</th>\n",
       "      <th>title</th>\n",
       "      <th>title_without_series</th>\n",
       "    </tr>\n",
       "  </thead>\n",
       "  <tbody>\n",
       "    <tr>\n",
       "      <th>23231</th>\n",
       "      <td>8845263436</td>\n",
       "      <td>6</td>\n",
       "      <td>[]</td>\n",
       "      <td>US</td>\n",
       "      <td>ita</td>\n",
       "      <td>[{'count': '830', 'name': 'to-read'}, {'count'...</td>\n",
       "      <td></td>\n",
       "      <td>false</td>\n",
       "      <td>3.83</td>\n",
       "      <td></td>\n",
       "      <td>...</td>\n",
       "      <td>10</td>\n",
       "      <td>I libri di Tolkien, Letteraria straniera</td>\n",
       "      <td>2009</td>\n",
       "      <td>https://www.goodreads.com/book/show/9707838-la...</td>\n",
       "      <td>https://images.gr-assets.com/books/1327356712m...</td>\n",
       "      <td>9707838</td>\n",
       "      <td>42</td>\n",
       "      <td>6538830</td>\n",
       "      <td>La Leggenda di Sigurd e Gudrún</td>\n",
       "      <td>La Leggenda di Sigurd e Gudrún</td>\n",
       "    </tr>\n",
       "    <tr>\n",
       "      <th>22411</th>\n",
       "      <td>XXXXOLP004</td>\n",
       "      <td>42</td>\n",
       "      <td>[]</td>\n",
       "      <td>US</td>\n",
       "      <td>eng</td>\n",
       "      <td>[{'count': '105', 'name': 'to-read'}, {'count'...</td>\n",
       "      <td></td>\n",
       "      <td>false</td>\n",
       "      <td>3.14</td>\n",
       "      <td></td>\n",
       "      <td>...</td>\n",
       "      <td>4</td>\n",
       "      <td></td>\n",
       "      <td>2011</td>\n",
       "      <td>https://www.goodreads.com/book/show/13076893-p...</td>\n",
       "      <td>https://images.gr-assets.com/books/1321637322m...</td>\n",
       "      <td>13076893</td>\n",
       "      <td>58</td>\n",
       "      <td>18243823</td>\n",
       "      <td>People Who Don't Know Me Think I'm Somebody</td>\n",
       "      <td>People Who Don't Know Me Think I'm Somebody</td>\n",
       "    </tr>\n",
       "    <tr>\n",
       "      <th>21469</th>\n",
       "      <td>0060952571</td>\n",
       "      <td>8</td>\n",
       "      <td>[]</td>\n",
       "      <td>US</td>\n",
       "      <td>eng</td>\n",
       "      <td>[{'count': '25', 'name': 'to-read'}, {'count':...</td>\n",
       "      <td></td>\n",
       "      <td>false</td>\n",
       "      <td>3.97</td>\n",
       "      <td>B003ZSHUJS</td>\n",
       "      <td>...</td>\n",
       "      <td>10</td>\n",
       "      <td></td>\n",
       "      <td>1997</td>\n",
       "      <td>https://www.goodreads.com/book/show/1063570.Fa...</td>\n",
       "      <td>https://s.gr-assets.com/assets/nophoto/book/11...</td>\n",
       "      <td>1063570</td>\n",
       "      <td>31</td>\n",
       "      <td>1050210</td>\n",
       "      <td>Falling Water</td>\n",
       "      <td>Falling Water</td>\n",
       "    </tr>\n",
       "  </tbody>\n",
       "</table>\n",
       "<p>3 rows × 29 columns</p>\n",
       "</div>"
      ],
      "text/plain": [
       "             isbn  text_reviews_count series country_code language_code  \\\n",
       "23231  8845263436                   6     []           US           ita   \n",
       "22411  XXXXOLP004                  42     []           US           eng   \n",
       "21469  0060952571                   8     []           US           eng   \n",
       "\n",
       "                                         popular_shelves asin is_ebook  \\\n",
       "23231  [{'count': '830', 'name': 'to-read'}, {'count'...         false   \n",
       "22411  [{'count': '105', 'name': 'to-read'}, {'count'...         false   \n",
       "21469  [{'count': '25', 'name': 'to-read'}, {'count':...         false   \n",
       "\n",
       "       average_rating kindle_asin  ... publication_month  \\\n",
       "23231            3.83              ...                10   \n",
       "22411            3.14              ...                 4   \n",
       "21469            3.97  B003ZSHUJS  ...                10   \n",
       "\n",
       "                            edition_information publication_year  \\\n",
       "23231  I libri di Tolkien, Letteraria straniera             2009   \n",
       "22411                                                       2011   \n",
       "21469                                                       1997   \n",
       "\n",
       "                                                     url  \\\n",
       "23231  https://www.goodreads.com/book/show/9707838-la...   \n",
       "22411  https://www.goodreads.com/book/show/13076893-p...   \n",
       "21469  https://www.goodreads.com/book/show/1063570.Fa...   \n",
       "\n",
       "                                               image_url   book_id  \\\n",
       "23231  https://images.gr-assets.com/books/1327356712m...   9707838   \n",
       "22411  https://images.gr-assets.com/books/1321637322m...  13076893   \n",
       "21469  https://s.gr-assets.com/assets/nophoto/book/11...   1063570   \n",
       "\n",
       "      ratings_count   work_id                                        title  \\\n",
       "23231            42   6538830               La Leggenda di Sigurd e Gudrún   \n",
       "22411            58  18243823  People Who Don't Know Me Think I'm Somebody   \n",
       "21469            31   1050210                                Falling Water   \n",
       "\n",
       "                              title_without_series  \n",
       "23231               La Leggenda di Sigurd e Gudrún  \n",
       "22411  People Who Don't Know Me Think I'm Somebody  \n",
       "21469                                Falling Water  \n",
       "\n",
       "[3 rows x 29 columns]"
      ]
     },
     "execution_count": 24,
     "metadata": {},
     "output_type": "execute_result"
    }
   ],
   "source": [
    "books_metadata.sample(3)"
   ]
  },
  {
   "cell_type": "code",
   "execution_count": 25,
   "id": "0eb416b3",
   "metadata": {},
   "outputs": [
    {
     "data": {
      "text/plain": [
       "(36514, 29)"
      ]
     },
     "execution_count": 25,
     "metadata": {},
     "output_type": "execute_result"
    }
   ],
   "source": [
    "books_metadata.shape"
   ]
  },
  {
   "cell_type": "code",
   "execution_count": 26,
   "id": "5d993b6c",
   "metadata": {},
   "outputs": [
    {
     "data": {
      "text/plain": [
       "Index(['isbn', 'text_reviews_count', 'series', 'country_code', 'language_code',\n",
       "       'popular_shelves', 'asin', 'is_ebook', 'average_rating', 'kindle_asin',\n",
       "       'similar_books', 'description', 'format', 'link', 'authors',\n",
       "       'publisher', 'num_pages', 'publication_day', 'isbn13',\n",
       "       'publication_month', 'edition_information', 'publication_year', 'url',\n",
       "       'image_url', 'book_id', 'ratings_count', 'work_id', 'title',\n",
       "       'title_without_series'],\n",
       "      dtype='object')"
      ]
     },
     "execution_count": 26,
     "metadata": {},
     "output_type": "execute_result"
    }
   ],
   "source": [
    "books_metadata.columns"
   ]
  },
  {
   "cell_type": "markdown",
   "id": "7308bde9",
   "metadata": {},
   "source": [
    "- Selecionando apenas algumas variáveis da nossa base de dados de livros:"
   ]
  },
  {
   "cell_type": "code",
   "execution_count": 27,
   "id": "34cff6d4",
   "metadata": {},
   "outputs": [
    {
     "data": {
      "text/html": [
       "<div>\n",
       "<style scoped>\n",
       "    .dataframe tbody tr th:only-of-type {\n",
       "        vertical-align: middle;\n",
       "    }\n",
       "\n",
       "    .dataframe tbody tr th {\n",
       "        vertical-align: top;\n",
       "    }\n",
       "\n",
       "    .dataframe thead th {\n",
       "        text-align: right;\n",
       "    }\n",
       "</style>\n",
       "<table border=\"1\" class=\"dataframe\">\n",
       "  <thead>\n",
       "    <tr style=\"text-align: right;\">\n",
       "      <th></th>\n",
       "      <th>book_id</th>\n",
       "      <th>average_rating</th>\n",
       "      <th>is_ebook</th>\n",
       "      <th>num_pages</th>\n",
       "      <th>publication_year</th>\n",
       "      <th>ratings_count</th>\n",
       "      <th>language_code</th>\n",
       "    </tr>\n",
       "  </thead>\n",
       "  <tbody>\n",
       "    <tr>\n",
       "      <th>2651</th>\n",
       "      <td>13553229</td>\n",
       "      <td>3.83</td>\n",
       "      <td>false</td>\n",
       "      <td>800</td>\n",
       "      <td>2008</td>\n",
       "      <td>159</td>\n",
       "      <td>ara</td>\n",
       "    </tr>\n",
       "    <tr>\n",
       "      <th>3434</th>\n",
       "      <td>27178990</td>\n",
       "      <td>3.88</td>\n",
       "      <td>false</td>\n",
       "      <td>312</td>\n",
       "      <td>2016</td>\n",
       "      <td>8</td>\n",
       "      <td></td>\n",
       "    </tr>\n",
       "    <tr>\n",
       "      <th>6403</th>\n",
       "      <td>150251</td>\n",
       "      <td>4.28</td>\n",
       "      <td>false</td>\n",
       "      <td>260</td>\n",
       "      <td>2000</td>\n",
       "      <td>1570</td>\n",
       "      <td>en-US</td>\n",
       "    </tr>\n",
       "    <tr>\n",
       "      <th>5584</th>\n",
       "      <td>1127913</td>\n",
       "      <td>4.48</td>\n",
       "      <td>false</td>\n",
       "      <td></td>\n",
       "      <td>1982</td>\n",
       "      <td>20</td>\n",
       "      <td></td>\n",
       "    </tr>\n",
       "    <tr>\n",
       "      <th>1338</th>\n",
       "      <td>16174875</td>\n",
       "      <td>3.33</td>\n",
       "      <td>true</td>\n",
       "      <td>40</td>\n",
       "      <td>2012</td>\n",
       "      <td>143</td>\n",
       "      <td>eng</td>\n",
       "    </tr>\n",
       "  </tbody>\n",
       "</table>\n",
       "</div>"
      ],
      "text/plain": [
       "       book_id  average_rating is_ebook num_pages publication_year  \\\n",
       "2651  13553229            3.83    false       800             2008   \n",
       "3434  27178990            3.88    false       312             2016   \n",
       "6403    150251            4.28    false       260             2000   \n",
       "5584   1127913            4.48    false                       1982   \n",
       "1338  16174875            3.33     true        40             2012   \n",
       "\n",
       "      ratings_count language_code  \n",
       "2651            159           ara  \n",
       "3434              8                \n",
       "6403           1570         en-US  \n",
       "5584             20                \n",
       "1338            143           eng  "
      ]
     },
     "execution_count": 27,
     "metadata": {},
     "output_type": "execute_result"
    }
   ],
   "source": [
    "books_metadata_selected = books_metadata[['book_id', 'average_rating', 'is_ebook', 'num_pages', \n",
    "                                          'publication_year', 'ratings_count', 'language_code']]\n",
    "books_metadata_selected.sample(5)"
   ]
  },
  {
   "cell_type": "markdown",
   "id": "9bbe70fb",
   "metadata": {},
   "source": [
    "- Análise Exploratória Preliminar:"
   ]
  },
  {
   "cell_type": "code",
   "execution_count": 28,
   "id": "fc53e1e0",
   "metadata": {},
   "outputs": [
    {
     "name": "stderr",
     "output_type": "stream",
     "text": [
      "C:\\Users\\edneide.ramalho\\AppData\\Local\\Temp\\ipykernel_27364\\2106220406.py:5: SettingWithCopyWarning: \n",
      "A value is trying to be set on a copy of a slice from a DataFrame\n",
      "\n",
      "See the caveats in the documentation: https://pandas.pydata.org/pandas-docs/stable/user_guide/indexing.html#returning-a-view-versus-a-copy\n",
      "  books_metadata_selected.replace('', np.nan, inplace=True)\n"
     ]
    }
   ],
   "source": [
    "import pandas_profiling\n",
    "import numpy as np\n",
    "\n",
    "# replace blank cells with NaN\n",
    "books_metadata_selected.replace('', np.nan, inplace=True)"
   ]
  },
  {
   "cell_type": "code",
   "execution_count": 29,
   "id": "a83e5750",
   "metadata": {},
   "outputs": [
    {
     "name": "stderr",
     "output_type": "stream",
     "text": [
      "C:\\Users\\edneide.ramalho\\Anaconda3\\lib\\site-packages\\multimethod\\__init__.py:315: SettingWithCopyWarning: \n",
      "A value is trying to be set on a copy of a slice from a DataFrame\n",
      "\n",
      "See the caveats in the documentation: https://pandas.pydata.org/pandas-docs/stable/user_guide/indexing.html#returning-a-view-versus-a-copy\n",
      "  return func(*args, **kwargs)\n"
     ]
    },
    {
     "data": {
      "application/vnd.jupyter.widget-view+json": {
       "model_id": "d30b587896d440aba2ae2ddfaf8b482f",
       "version_major": 2,
       "version_minor": 0
      },
      "text/plain": [
       "Summarize dataset:   0%|          | 0/5 [00:00<?, ?it/s]"
      ]
     },
     "metadata": {},
     "output_type": "display_data"
    },
    {
     "data": {
      "application/vnd.jupyter.widget-view+json": {
       "model_id": "252df44c2c1c4c3bb4543e0cfcbe5f93",
       "version_major": 2,
       "version_minor": 0
      },
      "text/plain": [
       "Generate report structure:   0%|          | 0/1 [00:00<?, ?it/s]"
      ]
     },
     "metadata": {},
     "output_type": "display_data"
    },
    {
     "data": {
      "application/vnd.jupyter.widget-view+json": {
       "model_id": "f8a5ca249e384e4da245cfa712d7dacb",
       "version_major": 2,
       "version_minor": 0
      },
      "text/plain": [
       "Render HTML:   0%|          | 0/1 [00:00<?, ?it/s]"
      ]
     },
     "metadata": {},
     "output_type": "display_data"
    },
    {
     "data": {
      "application/vnd.jupyter.widget-view+json": {
       "model_id": "6f85db931bce406abda7c94bcbbaddc4",
       "version_major": 2,
       "version_minor": 0
      },
      "text/plain": [
       "Export report to file:   0%|          | 0/1 [00:00<?, ?it/s]"
      ]
     },
     "metadata": {},
     "output_type": "display_data"
    }
   ],
   "source": [
    "# not taking book_id into the profiler report\n",
    "profile = pandas_profiling.ProfileReport(books_metadata_selected[['average_rating', 'is_ebook', 'num_pages',\n",
    "                                                                  'publication_year', 'ratings_count']])\n",
    "profile.to_file('results/profiler_books_metadata_1.html')"
   ]
  },
  {
   "cell_type": "markdown",
   "id": "3d03f784",
   "metadata": {},
   "source": [
    "- Considerando os resultados anteriores, algumas transformações podem ser feitas:\n",
    "    + Substituir os valores faltantes de variáveis categóricas com outros valores a fim de criar uma nova categoria\n",
    "    + Converter valores de variáveis numéricas em intervalos discretos"
   ]
  },
  {
   "cell_type": "code",
   "execution_count": 30,
   "id": "01675f2f",
   "metadata": {},
   "outputs": [
    {
     "name": "stderr",
     "output_type": "stream",
     "text": [
      "C:\\Users\\edneide.ramalho\\AppData\\Local\\Temp\\ipykernel_27364\\1479027363.py:2: SettingWithCopyWarning: \n",
      "A value is trying to be set on a copy of a slice from a DataFrame\n",
      "\n",
      "See the caveats in the documentation: https://pandas.pydata.org/pandas-docs/stable/user_guide/indexing.html#returning-a-view-versus-a-copy\n",
      "  books_metadata_selected['num_pages'].replace(np.nan, -1, inplace=True)\n",
      "C:\\Users\\edneide.ramalho\\AppData\\Local\\Temp\\ipykernel_27364\\1479027363.py:3: SettingWithCopyWarning: \n",
      "A value is trying to be set on a copy of a slice from a DataFrame.\n",
      "Try using .loc[row_indexer,col_indexer] = value instead\n",
      "\n",
      "See the caveats in the documentation: https://pandas.pydata.org/pandas-docs/stable/user_guide/indexing.html#returning-a-view-versus-a-copy\n",
      "  books_metadata_selected['num_pages'] = pd.to_numeric(books_metadata_selected['num_pages'])\n",
      "C:\\Users\\edneide.ramalho\\AppData\\Local\\Temp\\ipykernel_27364\\1479027363.py:4: SettingWithCopyWarning: \n",
      "A value is trying to be set on a copy of a slice from a DataFrame.\n",
      "Try using .loc[row_indexer,col_indexer] = value instead\n",
      "\n",
      "See the caveats in the documentation: https://pandas.pydata.org/pandas-docs/stable/user_guide/indexing.html#returning-a-view-versus-a-copy\n",
      "  books_metadata_selected['num_pages'] = pd.cut(books_metadata_selected['num_pages'], bins=25)\n",
      "C:\\Users\\edneide.ramalho\\AppData\\Local\\Temp\\ipykernel_27364\\1479027363.py:7: SettingWithCopyWarning: \n",
      "A value is trying to be set on a copy of a slice from a DataFrame.\n",
      "Try using .loc[row_indexer,col_indexer] = value instead\n",
      "\n",
      "See the caveats in the documentation: https://pandas.pydata.org/pandas-docs/stable/user_guide/indexing.html#returning-a-view-versus-a-copy\n",
      "  books_metadata_selected['average_rating'] = books_metadata_selected['average_rating'].apply(lambda x: round(x*2)/2)\n",
      "C:\\Users\\edneide.ramalho\\AppData\\Local\\Temp\\ipykernel_27364\\1479027363.py:10: SettingWithCopyWarning: \n",
      "A value is trying to be set on a copy of a slice from a DataFrame.\n",
      "Try using .loc[row_indexer,col_indexer] = value instead\n",
      "\n",
      "See the caveats in the documentation: https://pandas.pydata.org/pandas-docs/stable/user_guide/indexing.html#returning-a-view-versus-a-copy\n",
      "  books_metadata_selected['ratings_count'] = pd.qcut(books_metadata_selected['ratings_count'], 25)\n",
      "C:\\Users\\edneide.ramalho\\AppData\\Local\\Temp\\ipykernel_27364\\1479027363.py:13: SettingWithCopyWarning: \n",
      "A value is trying to be set on a copy of a slice from a DataFrame\n",
      "\n",
      "See the caveats in the documentation: https://pandas.pydata.org/pandas-docs/stable/user_guide/indexing.html#returning-a-view-versus-a-copy\n",
      "  books_metadata_selected['publication_year'].replace(np.nan, 2100, inplace=True)\n",
      "C:\\Users\\edneide.ramalho\\AppData\\Local\\Temp\\ipykernel_27364\\1479027363.py:16: SettingWithCopyWarning: \n",
      "A value is trying to be set on a copy of a slice from a DataFrame\n",
      "\n",
      "See the caveats in the documentation: https://pandas.pydata.org/pandas-docs/stable/user_guide/indexing.html#returning-a-view-versus-a-copy\n",
      "  books_metadata_selected['language_code'].replace(np.nan, 'unknown', inplace=True)\n",
      "C:\\Users\\edneide.ramalho\\AppData\\Local\\Temp\\ipykernel_27364\\1479027363.py:20: SettingWithCopyWarning: \n",
      "A value is trying to be set on a copy of a slice from a DataFrame.\n",
      "Try using .loc[row_indexer,col_indexer] = value instead\n",
      "\n",
      "See the caveats in the documentation: https://pandas.pydata.org/pandas-docs/stable/user_guide/indexing.html#returning-a-view-versus-a-copy\n",
      "  books_metadata_selected['is_ebook'] = books_metadata_selected.is_ebook.map(\n"
     ]
    }
   ],
   "source": [
    "# using pandas cut method to convert fields into discrete intervals\n",
    "books_metadata_selected['num_pages'].replace(np.nan, -1, inplace=True)\n",
    "books_metadata_selected['num_pages'] = pd.to_numeric(books_metadata_selected['num_pages'])\n",
    "books_metadata_selected['num_pages'] = pd.cut(books_metadata_selected['num_pages'], bins=25)\n",
    "\n",
    "# rounding ratings to nearest .5 score\n",
    "books_metadata_selected['average_rating'] = books_metadata_selected['average_rating'].apply(lambda x: round(x*2)/2)\n",
    "\n",
    "# using pandas qcut method to convert fields into quantile-based discrete intervals\n",
    "books_metadata_selected['ratings_count'] = pd.qcut(books_metadata_selected['ratings_count'], 25)\n",
    "\n",
    "# replacing missing values to year 2100\n",
    "books_metadata_selected['publication_year'].replace(np.nan, 2100, inplace=True)\n",
    "\n",
    "# replacing missing values to 'unknown'\n",
    "books_metadata_selected['language_code'].replace(np.nan, 'unknown', inplace=True)\n",
    "\n",
    "\n",
    "# convert is_ebook column into 1/0 where true=1 and false=0\n",
    "books_metadata_selected['is_ebook'] = books_metadata_selected.is_ebook.map(\n",
    "    lambda x: 1.0*(x == 'true'))"
   ]
  },
  {
   "cell_type": "code",
   "execution_count": 31,
   "id": "bf3f9fa3",
   "metadata": {},
   "outputs": [
    {
     "name": "stderr",
     "output_type": "stream",
     "text": [
      "C:\\Users\\edneide.ramalho\\Anaconda3\\lib\\site-packages\\multimethod\\__init__.py:315: SettingWithCopyWarning: \n",
      "A value is trying to be set on a copy of a slice from a DataFrame\n",
      "\n",
      "See the caveats in the documentation: https://pandas.pydata.org/pandas-docs/stable/user_guide/indexing.html#returning-a-view-versus-a-copy\n",
      "  return func(*args, **kwargs)\n"
     ]
    },
    {
     "data": {
      "application/vnd.jupyter.widget-view+json": {
       "model_id": "828a4c8b83b94039bf024ceaa17340fa",
       "version_major": 2,
       "version_minor": 0
      },
      "text/plain": [
       "Summarize dataset:   0%|          | 0/5 [00:00<?, ?it/s]"
      ]
     },
     "metadata": {},
     "output_type": "display_data"
    },
    {
     "data": {
      "application/vnd.jupyter.widget-view+json": {
       "model_id": "a58609c649c641a9a4fd83c33136b9a0",
       "version_major": 2,
       "version_minor": 0
      },
      "text/plain": [
       "Generate report structure:   0%|          | 0/1 [00:00<?, ?it/s]"
      ]
     },
     "metadata": {},
     "output_type": "display_data"
    },
    {
     "data": {
      "application/vnd.jupyter.widget-view+json": {
       "model_id": "f078ed93af7b4d7e82366b98787a048f",
       "version_major": 2,
       "version_minor": 0
      },
      "text/plain": [
       "Render HTML:   0%|          | 0/1 [00:00<?, ?it/s]"
      ]
     },
     "metadata": {},
     "output_type": "display_data"
    },
    {
     "data": {
      "application/vnd.jupyter.widget-view+json": {
       "model_id": "268bce348689471b998d15030ceabdd8",
       "version_major": 2,
       "version_minor": 0
      },
      "text/plain": [
       "Export report to file:   0%|          | 0/1 [00:00<?, ?it/s]"
      ]
     },
     "metadata": {},
     "output_type": "display_data"
    }
   ],
   "source": [
    "profile = pandas_profiling.ProfileReport(books_metadata_selected[['average_rating', 'is_ebook', 'num_pages', \n",
    "                                                        'publication_year', 'ratings_count']])\n",
    "profile.to_file('./results/profiler_books_metadata_2.html')"
   ]
  },
  {
   "cell_type": "code",
   "execution_count": 32,
   "id": "3952803d",
   "metadata": {},
   "outputs": [
    {
     "data": {
      "text/html": [
       "<div>\n",
       "<style scoped>\n",
       "    .dataframe tbody tr th:only-of-type {\n",
       "        vertical-align: middle;\n",
       "    }\n",
       "\n",
       "    .dataframe tbody tr th {\n",
       "        vertical-align: top;\n",
       "    }\n",
       "\n",
       "    .dataframe thead th {\n",
       "        text-align: right;\n",
       "    }\n",
       "</style>\n",
       "<table border=\"1\" class=\"dataframe\">\n",
       "  <thead>\n",
       "    <tr style=\"text-align: right;\">\n",
       "      <th></th>\n",
       "      <th>book_id</th>\n",
       "      <th>average_rating</th>\n",
       "      <th>is_ebook</th>\n",
       "      <th>num_pages</th>\n",
       "      <th>publication_year</th>\n",
       "      <th>ratings_count</th>\n",
       "      <th>language_code</th>\n",
       "    </tr>\n",
       "  </thead>\n",
       "  <tbody>\n",
       "    <tr>\n",
       "      <th>4465</th>\n",
       "      <td>1245616</td>\n",
       "      <td>4.0</td>\n",
       "      <td>0.0</td>\n",
       "      <td>(-11.961, 437.44]</td>\n",
       "      <td>1961</td>\n",
       "      <td>(10.0, 12.0]</td>\n",
       "      <td>eng</td>\n",
       "    </tr>\n",
       "    <tr>\n",
       "      <th>5908</th>\n",
       "      <td>82362</td>\n",
       "      <td>3.5</td>\n",
       "      <td>0.0</td>\n",
       "      <td>(-11.961, 437.44]</td>\n",
       "      <td>2005</td>\n",
       "      <td>(29.0, 34.0]</td>\n",
       "      <td>eng</td>\n",
       "    </tr>\n",
       "    <tr>\n",
       "      <th>25121</th>\n",
       "      <td>4746103</td>\n",
       "      <td>3.5</td>\n",
       "      <td>0.0</td>\n",
       "      <td>(-11.961, 437.44]</td>\n",
       "      <td>1990</td>\n",
       "      <td>(12.0, 14.0]</td>\n",
       "      <td>per</td>\n",
       "    </tr>\n",
       "    <tr>\n",
       "      <th>13343</th>\n",
       "      <td>7932491</td>\n",
       "      <td>4.5</td>\n",
       "      <td>0.0</td>\n",
       "      <td>(-11.961, 437.44]</td>\n",
       "      <td>2010</td>\n",
       "      <td>(59.0, 73.0]</td>\n",
       "      <td>unknown</td>\n",
       "    </tr>\n",
       "    <tr>\n",
       "      <th>21995</th>\n",
       "      <td>764135</td>\n",
       "      <td>4.5</td>\n",
       "      <td>0.0</td>\n",
       "      <td>(-11.961, 437.44]</td>\n",
       "      <td>1987</td>\n",
       "      <td>(49.0, 59.0]</td>\n",
       "      <td>unknown</td>\n",
       "    </tr>\n",
       "  </tbody>\n",
       "</table>\n",
       "</div>"
      ],
      "text/plain": [
       "       book_id  average_rating  is_ebook          num_pages publication_year  \\\n",
       "4465   1245616             4.0       0.0  (-11.961, 437.44]             1961   \n",
       "5908     82362             3.5       0.0  (-11.961, 437.44]             2005   \n",
       "25121  4746103             3.5       0.0  (-11.961, 437.44]             1990   \n",
       "13343  7932491             4.5       0.0  (-11.961, 437.44]             2010   \n",
       "21995   764135             4.5       0.0  (-11.961, 437.44]             1987   \n",
       "\n",
       "      ratings_count language_code  \n",
       "4465   (10.0, 12.0]           eng  \n",
       "5908   (29.0, 34.0]           eng  \n",
       "25121  (12.0, 14.0]           per  \n",
       "13343  (59.0, 73.0]       unknown  \n",
       "21995  (49.0, 59.0]       unknown  "
      ]
     },
     "execution_count": 32,
     "metadata": {},
     "output_type": "execute_result"
    }
   ],
   "source": [
    "books_metadata_selected.sample(5)"
   ]
  },
  {
   "cell_type": "markdown",
   "id": "9e305142",
   "metadata": {},
   "source": [
    "## Data Inspection & Preparation: Interactions data"
   ]
  },
  {
   "cell_type": "code",
   "execution_count": 48,
   "id": "e47d238e",
   "metadata": {},
   "outputs": [
    {
     "data": {
      "text/plain": [
       "array(['user_id', 'book_id', 'review_id', 'is_read', 'rating',\n",
       "       'review_text_incomplete', 'date_added', 'date_updated', 'read_at',\n",
       "       'started_at'], dtype=object)"
      ]
     },
     "execution_count": 48,
     "metadata": {},
     "output_type": "execute_result"
    }
   ],
   "source": [
    "interactions.columns.values"
   ]
  },
  {
   "cell_type": "code",
   "execution_count": 49,
   "id": "1c041db1",
   "metadata": {},
   "outputs": [
    {
     "data": {
      "text/html": [
       "<div>\n",
       "<style scoped>\n",
       "    .dataframe tbody tr th:only-of-type {\n",
       "        vertical-align: middle;\n",
       "    }\n",
       "\n",
       "    .dataframe tbody tr th {\n",
       "        vertical-align: top;\n",
       "    }\n",
       "\n",
       "    .dataframe thead th {\n",
       "        text-align: right;\n",
       "    }\n",
       "</style>\n",
       "<table border=\"1\" class=\"dataframe\">\n",
       "  <thead>\n",
       "    <tr style=\"text-align: right;\">\n",
       "      <th></th>\n",
       "      <th>user_id</th>\n",
       "      <th>book_id</th>\n",
       "      <th>review_id</th>\n",
       "      <th>is_read</th>\n",
       "      <th>rating</th>\n",
       "      <th>review_text_incomplete</th>\n",
       "      <th>date_added</th>\n",
       "      <th>date_updated</th>\n",
       "      <th>read_at</th>\n",
       "      <th>started_at</th>\n",
       "    </tr>\n",
       "  </thead>\n",
       "  <tbody>\n",
       "    <tr>\n",
       "      <th>2598608</th>\n",
       "      <td>9410d2e023afb85c24206823958a874a</td>\n",
       "      <td>71654</td>\n",
       "      <td>52be467b884e4268f2567e87f458cda6</td>\n",
       "      <td>False</td>\n",
       "      <td>0</td>\n",
       "      <td></td>\n",
       "      <td>Wed Jun 14 11:01:27 -0700 2017</td>\n",
       "      <td>Wed Jun 14 11:01:28 -0700 2017</td>\n",
       "      <td></td>\n",
       "      <td></td>\n",
       "    </tr>\n",
       "    <tr>\n",
       "      <th>1810316</th>\n",
       "      <td>1d2cede91667daf4b1cf2334d4bf2501</td>\n",
       "      <td>99713</td>\n",
       "      <td>b7ef86d8bcb91fe69f0a7bad02c0563d</td>\n",
       "      <td>True</td>\n",
       "      <td>5</td>\n",
       "      <td></td>\n",
       "      <td>Wed Jun 06 20:38:27 -0700 2012</td>\n",
       "      <td>Wed Jun 06 20:38:27 -0700 2012</td>\n",
       "      <td></td>\n",
       "      <td></td>\n",
       "    </tr>\n",
       "    <tr>\n",
       "      <th>1094332</th>\n",
       "      <td>1166d9ed5beb38126be3cb4158cf0843</td>\n",
       "      <td>15479231</td>\n",
       "      <td>325b1a50b17abe47cd3616aa095e2552</td>\n",
       "      <td>True</td>\n",
       "      <td>5</td>\n",
       "      <td>&lt;a target=\"_blank\" href=\"http://youtu.be/siZgc...</td>\n",
       "      <td>Tue Dec 16 11:50:36 -0800 2014</td>\n",
       "      <td>Tue Dec 16 11:51:17 -0800 2014</td>\n",
       "      <td></td>\n",
       "      <td></td>\n",
       "    </tr>\n",
       "    <tr>\n",
       "      <th>459380</th>\n",
       "      <td>1f74f1f40beeedb19db82aabc9e27124</td>\n",
       "      <td>203220</td>\n",
       "      <td>32c345f6d62f8f28d1ea9127cae4074e</td>\n",
       "      <td>False</td>\n",
       "      <td>0</td>\n",
       "      <td></td>\n",
       "      <td>Sat Feb 02 05:43:34 -0800 2013</td>\n",
       "      <td>Sat Feb 02 05:43:34 -0800 2013</td>\n",
       "      <td></td>\n",
       "      <td></td>\n",
       "    </tr>\n",
       "    <tr>\n",
       "      <th>762557</th>\n",
       "      <td>3c707803c0d7b4423e32e020f47ad281</td>\n",
       "      <td>11904233</td>\n",
       "      <td>52dc2571487c65c42d5f367f57bd092a</td>\n",
       "      <td>False</td>\n",
       "      <td>0</td>\n",
       "      <td></td>\n",
       "      <td>Sat Nov 15 12:45:27 -0800 2014</td>\n",
       "      <td>Sat Nov 15 12:45:28 -0800 2014</td>\n",
       "      <td></td>\n",
       "      <td></td>\n",
       "    </tr>\n",
       "  </tbody>\n",
       "</table>\n",
       "</div>"
      ],
      "text/plain": [
       "                                  user_id   book_id  \\\n",
       "2598608  9410d2e023afb85c24206823958a874a     71654   \n",
       "1810316  1d2cede91667daf4b1cf2334d4bf2501     99713   \n",
       "1094332  1166d9ed5beb38126be3cb4158cf0843  15479231   \n",
       "459380   1f74f1f40beeedb19db82aabc9e27124    203220   \n",
       "762557   3c707803c0d7b4423e32e020f47ad281  11904233   \n",
       "\n",
       "                                review_id  is_read  rating  \\\n",
       "2598608  52be467b884e4268f2567e87f458cda6    False       0   \n",
       "1810316  b7ef86d8bcb91fe69f0a7bad02c0563d     True       5   \n",
       "1094332  325b1a50b17abe47cd3616aa095e2552     True       5   \n",
       "459380   32c345f6d62f8f28d1ea9127cae4074e    False       0   \n",
       "762557   52dc2571487c65c42d5f367f57bd092a    False       0   \n",
       "\n",
       "                                    review_text_incomplete  \\\n",
       "2598608                                                      \n",
       "1810316                                                      \n",
       "1094332  <a target=\"_blank\" href=\"http://youtu.be/siZgc...   \n",
       "459380                                                       \n",
       "762557                                                       \n",
       "\n",
       "                             date_added                    date_updated  \\\n",
       "2598608  Wed Jun 14 11:01:27 -0700 2017  Wed Jun 14 11:01:28 -0700 2017   \n",
       "1810316  Wed Jun 06 20:38:27 -0700 2012  Wed Jun 06 20:38:27 -0700 2012   \n",
       "1094332  Tue Dec 16 11:50:36 -0800 2014  Tue Dec 16 11:51:17 -0800 2014   \n",
       "459380   Sat Feb 02 05:43:34 -0800 2013  Sat Feb 02 05:43:34 -0800 2013   \n",
       "762557   Sat Nov 15 12:45:27 -0800 2014  Sat Nov 15 12:45:28 -0800 2014   \n",
       "\n",
       "        read_at started_at  \n",
       "2598608                     \n",
       "1810316                     \n",
       "1094332                     \n",
       "459380                      \n",
       "762557                      "
      ]
     },
     "execution_count": 49,
     "metadata": {},
     "output_type": "execute_result"
    }
   ],
   "source": [
    "interactions.sample(5)"
   ]
  },
  {
   "cell_type": "code",
   "execution_count": 50,
   "id": "52da9b3e",
   "metadata": {},
   "outputs": [
    {
     "data": {
      "text/plain": [
       "False    1420740\n",
       "True     1313610\n",
       "Name: is_read, dtype: int64"
      ]
     },
     "execution_count": 50,
     "metadata": {},
     "output_type": "execute_result"
    }
   ],
   "source": [
    "interactions['is_read'].value_counts()"
   ]
  },
  {
   "cell_type": "code",
   "execution_count": 35,
   "id": "b4e7a9ab",
   "metadata": {},
   "outputs": [
    {
     "data": {
      "text/plain": [
       "(2734350, 10)"
      ]
     },
     "execution_count": 35,
     "metadata": {},
     "output_type": "execute_result"
    }
   ],
   "source": [
    "interactions.shape"
   ]
  },
  {
   "cell_type": "markdown",
   "id": "f209a79c",
   "metadata": {},
   "source": [
    "- Vamos selecionar apenas algumas variáveis, que exigem o mínimo de manipulação. Mas, é bom lembrar que, quanto mais informação melhor, para gerar bons sistemas de recomendação. "
   ]
  },
  {
   "cell_type": "code",
   "execution_count": 51,
   "id": "3005f1e1",
   "metadata": {},
   "outputs": [
    {
     "name": "stderr",
     "output_type": "stream",
     "text": [
      "C:\\Users\\edneide.ramalho\\AppData\\Local\\Temp\\ipykernel_27364\\4045065103.py:6: SettingWithCopyWarning: \n",
      "A value is trying to be set on a copy of a slice from a DataFrame.\n",
      "Try using .loc[row_indexer,col_indexer] = value instead\n",
      "\n",
      "See the caveats in the documentation: https://pandas.pydata.org/pandas-docs/stable/user_guide/indexing.html#returning-a-view-versus-a-copy\n",
      "  interactions_selected['is_read'] = interactions_selected['is_read'].replace(booleanDictionary)\n"
     ]
    },
    {
     "data": {
      "text/html": [
       "<div>\n",
       "<style scoped>\n",
       "    .dataframe tbody tr th:only-of-type {\n",
       "        vertical-align: middle;\n",
       "    }\n",
       "\n",
       "    .dataframe tbody tr th {\n",
       "        vertical-align: top;\n",
       "    }\n",
       "\n",
       "    .dataframe thead th {\n",
       "        text-align: right;\n",
       "    }\n",
       "</style>\n",
       "<table border=\"1\" class=\"dataframe\">\n",
       "  <thead>\n",
       "    <tr style=\"text-align: right;\">\n",
       "      <th></th>\n",
       "      <th>user_id</th>\n",
       "      <th>book_id</th>\n",
       "      <th>is_read</th>\n",
       "      <th>rating</th>\n",
       "    </tr>\n",
       "  </thead>\n",
       "  <tbody>\n",
       "    <tr>\n",
       "      <th>1619044</th>\n",
       "      <td>b3b8ec8a22ea3b542c7f0deb797b393d</td>\n",
       "      <td>1420</td>\n",
       "      <td>true</td>\n",
       "      <td>5</td>\n",
       "    </tr>\n",
       "    <tr>\n",
       "      <th>1210164</th>\n",
       "      <td>c9911d89be00c3f06a2dfc6d45ee6ec2</td>\n",
       "      <td>22909597</td>\n",
       "      <td>false</td>\n",
       "      <td>0</td>\n",
       "    </tr>\n",
       "    <tr>\n",
       "      <th>443103</th>\n",
       "      <td>503044091e3321cfaf79e59f14fb02e4</td>\n",
       "      <td>137126</td>\n",
       "      <td>true</td>\n",
       "      <td>3</td>\n",
       "    </tr>\n",
       "    <tr>\n",
       "      <th>1911768</th>\n",
       "      <td>ccfad5b61800d59744e5a50fc2fe8822</td>\n",
       "      <td>16128472</td>\n",
       "      <td>true</td>\n",
       "      <td>5</td>\n",
       "    </tr>\n",
       "    <tr>\n",
       "      <th>1206120</th>\n",
       "      <td>23b7c6868d2dfe394b8395e86398eb26</td>\n",
       "      <td>8113299</td>\n",
       "      <td>true</td>\n",
       "      <td>3</td>\n",
       "    </tr>\n",
       "  </tbody>\n",
       "</table>\n",
       "</div>"
      ],
      "text/plain": [
       "                                  user_id   book_id is_read  rating\n",
       "1619044  b3b8ec8a22ea3b542c7f0deb797b393d      1420    true       5\n",
       "1210164  c9911d89be00c3f06a2dfc6d45ee6ec2  22909597   false       0\n",
       "443103   503044091e3321cfaf79e59f14fb02e4    137126    true       3\n",
       "1911768  ccfad5b61800d59744e5a50fc2fe8822  16128472    true       5\n",
       "1206120  23b7c6868d2dfe394b8395e86398eb26   8113299    true       3"
      ]
     },
     "execution_count": 51,
     "metadata": {},
     "output_type": "execute_result"
    }
   ],
   "source": [
    "# Limit the books metadata to selected fields\n",
    "interactions_selected = interactions[['user_id', 'book_id', 'is_read', 'rating']]\n",
    "\n",
    "# mapping boolean to string\n",
    "booleanDictionary = {True: 'true', False: 'false'}\n",
    "interactions_selected['is_read'] = interactions_selected['is_read'].replace(booleanDictionary)\n",
    "\n",
    "interactions_selected.sample(5)"
   ]
  },
  {
   "cell_type": "code",
   "execution_count": 37,
   "id": "806e8c38",
   "metadata": {},
   "outputs": [
    {
     "name": "stderr",
     "output_type": "stream",
     "text": [
      "C:\\Users\\edneide.ramalho\\Anaconda3\\lib\\site-packages\\multimethod\\__init__.py:315: SettingWithCopyWarning: \n",
      "A value is trying to be set on a copy of a slice from a DataFrame\n",
      "\n",
      "See the caveats in the documentation: https://pandas.pydata.org/pandas-docs/stable/user_guide/indexing.html#returning-a-view-versus-a-copy\n",
      "  return func(*args, **kwargs)\n"
     ]
    },
    {
     "data": {
      "application/vnd.jupyter.widget-view+json": {
       "model_id": "c96f5d168dfe4231b7ea30a96dd1f728",
       "version_major": 2,
       "version_minor": 0
      },
      "text/plain": [
       "Summarize dataset:   0%|          | 0/5 [00:00<?, ?it/s]"
      ]
     },
     "metadata": {},
     "output_type": "display_data"
    },
    {
     "data": {
      "application/vnd.jupyter.widget-view+json": {
       "model_id": "0dada6614d83499db9019c0a810822e9",
       "version_major": 2,
       "version_minor": 0
      },
      "text/plain": [
       "Generate report structure:   0%|          | 0/1 [00:00<?, ?it/s]"
      ]
     },
     "metadata": {},
     "output_type": "display_data"
    },
    {
     "data": {
      "application/vnd.jupyter.widget-view+json": {
       "model_id": "93abe2999eab493d945f6c06ea3d5402",
       "version_major": 2,
       "version_minor": 0
      },
      "text/plain": [
       "Render HTML:   0%|          | 0/1 [00:00<?, ?it/s]"
      ]
     },
     "metadata": {},
     "output_type": "display_data"
    },
    {
     "data": {
      "application/vnd.jupyter.widget-view+json": {
       "model_id": "650872faa50c4c0cb19da8cd2248fea5",
       "version_major": 2,
       "version_minor": 0
      },
      "text/plain": [
       "Export report to file:   0%|          | 0/1 [00:00<?, ?it/s]"
      ]
     },
     "metadata": {},
     "output_type": "display_data"
    }
   ],
   "source": [
    "profile = pandas_profiling.ProfileReport(interactions_selected[['is_read', 'rating']])\n",
    "profile.to_file('results/profiler_interactions.html')"
   ]
  },
  {
   "cell_type": "markdown",
   "id": "b1bce917",
   "metadata": {},
   "source": [
    "- Algumas transformações a serem realizadas:\n",
    "    + converter `is_read` para 1/0"
   ]
  },
  {
   "cell_type": "code",
   "execution_count": 52,
   "id": "39a22d4a",
   "metadata": {},
   "outputs": [
    {
     "name": "stderr",
     "output_type": "stream",
     "text": [
      "C:\\Users\\edneide.ramalho\\AppData\\Local\\Temp\\ipykernel_27364\\746741616.py:2: SettingWithCopyWarning: \n",
      "A value is trying to be set on a copy of a slice from a DataFrame.\n",
      "Try using .loc[row_indexer,col_indexer] = value instead\n",
      "\n",
      "See the caveats in the documentation: https://pandas.pydata.org/pandas-docs/stable/user_guide/indexing.html#returning-a-view-versus-a-copy\n",
      "  interactions_selected['is_read'] = interactions_selected.is_read.map(\n"
     ]
    }
   ],
   "source": [
    "# convert is_read column into 1/0 where true=1 amd false=0\n",
    "interactions_selected['is_read'] = interactions_selected.is_read.map(\n",
    "    lambda x: 1.0*(x=='true'))"
   ]
  },
  {
   "cell_type": "code",
   "execution_count": 53,
   "id": "217d2db3",
   "metadata": {},
   "outputs": [
    {
     "data": {
      "text/html": [
       "<div>\n",
       "<style scoped>\n",
       "    .dataframe tbody tr th:only-of-type {\n",
       "        vertical-align: middle;\n",
       "    }\n",
       "\n",
       "    .dataframe tbody tr th {\n",
       "        vertical-align: top;\n",
       "    }\n",
       "\n",
       "    .dataframe thead th {\n",
       "        text-align: right;\n",
       "    }\n",
       "</style>\n",
       "<table border=\"1\" class=\"dataframe\">\n",
       "  <thead>\n",
       "    <tr style=\"text-align: right;\">\n",
       "      <th></th>\n",
       "      <th>user_id</th>\n",
       "      <th>book_id</th>\n",
       "      <th>is_read</th>\n",
       "      <th>rating</th>\n",
       "    </tr>\n",
       "  </thead>\n",
       "  <tbody>\n",
       "    <tr>\n",
       "      <th>2402235</th>\n",
       "      <td>8aefd78afa68a7bbb0d3073e95e4db29</td>\n",
       "      <td>2711</td>\n",
       "      <td>1.0</td>\n",
       "      <td>5</td>\n",
       "    </tr>\n",
       "    <tr>\n",
       "      <th>2682041</th>\n",
       "      <td>db6f0646226f0f95eefcebfbef28f294</td>\n",
       "      <td>30119</td>\n",
       "      <td>0.0</td>\n",
       "      <td>0</td>\n",
       "    </tr>\n",
       "    <tr>\n",
       "      <th>1729109</th>\n",
       "      <td>aa75da92b43f3083ac6a2a43b6b91adb</td>\n",
       "      <td>23841432</td>\n",
       "      <td>0.0</td>\n",
       "      <td>0</td>\n",
       "    </tr>\n",
       "    <tr>\n",
       "      <th>1870950</th>\n",
       "      <td>e0779fdff9a8822169931f61de9f510b</td>\n",
       "      <td>15997</td>\n",
       "      <td>1.0</td>\n",
       "      <td>5</td>\n",
       "    </tr>\n",
       "    <tr>\n",
       "      <th>2499496</th>\n",
       "      <td>8a6eb52145c155f461c8f8ec8dde76c1</td>\n",
       "      <td>346573</td>\n",
       "      <td>0.0</td>\n",
       "      <td>0</td>\n",
       "    </tr>\n",
       "  </tbody>\n",
       "</table>\n",
       "</div>"
      ],
      "text/plain": [
       "                                  user_id   book_id  is_read  rating\n",
       "2402235  8aefd78afa68a7bbb0d3073e95e4db29      2711      1.0       5\n",
       "2682041  db6f0646226f0f95eefcebfbef28f294     30119      0.0       0\n",
       "1729109  aa75da92b43f3083ac6a2a43b6b91adb  23841432      0.0       0\n",
       "1870950  e0779fdff9a8822169931f61de9f510b     15997      1.0       5\n",
       "2499496  8a6eb52145c155f461c8f8ec8dde76c1    346573      0.0       0"
      ]
     },
     "execution_count": 53,
     "metadata": {},
     "output_type": "execute_result"
    }
   ],
   "source": [
    "interactions_selected.sample(5)"
   ]
  },
  {
   "cell_type": "markdown",
   "id": "5539b361",
   "metadata": {},
   "source": [
    "- Uma vez que temos dois campos denotando interação entre usuário e livro, vamos checar quantos data points temos em que o usuário não leu o livro, mas mesmo assim o avaliou. "
   ]
  },
  {
   "cell_type": "code",
   "execution_count": 54,
   "id": "3e59cc64",
   "metadata": {},
   "outputs": [
    {
     "data": {
      "text/html": [
       "<div>\n",
       "<style scoped>\n",
       "    .dataframe tbody tr th:only-of-type {\n",
       "        vertical-align: middle;\n",
       "    }\n",
       "\n",
       "    .dataframe tbody tr th {\n",
       "        vertical-align: top;\n",
       "    }\n",
       "\n",
       "    .dataframe thead th {\n",
       "        text-align: right;\n",
       "    }\n",
       "</style>\n",
       "<table border=\"1\" class=\"dataframe\">\n",
       "  <thead>\n",
       "    <tr style=\"text-align: right;\">\n",
       "      <th>rating</th>\n",
       "      <th>0</th>\n",
       "      <th>1</th>\n",
       "      <th>2</th>\n",
       "      <th>3</th>\n",
       "      <th>4</th>\n",
       "      <th>5</th>\n",
       "    </tr>\n",
       "    <tr>\n",
       "      <th>is_read</th>\n",
       "      <th></th>\n",
       "      <th></th>\n",
       "      <th></th>\n",
       "      <th></th>\n",
       "      <th></th>\n",
       "      <th></th>\n",
       "    </tr>\n",
       "  </thead>\n",
       "  <tbody>\n",
       "    <tr>\n",
       "      <th>0.0</th>\n",
       "      <td>1420740.0</td>\n",
       "      <td>NaN</td>\n",
       "      <td>NaN</td>\n",
       "      <td>NaN</td>\n",
       "      <td>NaN</td>\n",
       "      <td>NaN</td>\n",
       "    </tr>\n",
       "    <tr>\n",
       "      <th>1.0</th>\n",
       "      <td>84551.0</td>\n",
       "      <td>20497.0</td>\n",
       "      <td>64084.0</td>\n",
       "      <td>237942.0</td>\n",
       "      <td>405565.0</td>\n",
       "      <td>500971.0</td>\n",
       "    </tr>\n",
       "  </tbody>\n",
       "</table>\n",
       "</div>"
      ],
      "text/plain": [
       "rating           0        1        2         3         4         5\n",
       "is_read                                                           \n",
       "0.0      1420740.0      NaN      NaN       NaN       NaN       NaN\n",
       "1.0        84551.0  20497.0  64084.0  237942.0  405565.0  500971.0"
      ]
     },
     "execution_count": 54,
     "metadata": {},
     "output_type": "execute_result"
    }
   ],
   "source": [
    "interactions_selected.groupby(['rating', 'is_read']).size().reset_index().pivot(columns='rating', index='is_read', values=0)"
   ]
  },
  {
   "cell_type": "markdown",
   "id": "eb2f9f3b",
   "metadata": {},
   "source": [
    "- Podemos concluir que usuários com rating $\\geq 1$ leram o livro. Então, vamos usar `ratings` coo o score final, dropar interações nas quais `is_read` é falso, e limitar os dados de interação a 5000 usuários aleatórios para limitar o tamanho dos dados em análises futuras. "
   ]
  },
  {
   "cell_type": "code",
   "execution_count": 55,
   "id": "5b8cb110",
   "metadata": {},
   "outputs": [
    {
     "data": {
      "text/html": [
       "<div>\n",
       "<style scoped>\n",
       "    .dataframe tbody tr th:only-of-type {\n",
       "        vertical-align: middle;\n",
       "    }\n",
       "\n",
       "    .dataframe tbody tr th {\n",
       "        vertical-align: top;\n",
       "    }\n",
       "\n",
       "    .dataframe thead th {\n",
       "        text-align: right;\n",
       "    }\n",
       "</style>\n",
       "<table border=\"1\" class=\"dataframe\">\n",
       "  <thead>\n",
       "    <tr style=\"text-align: right;\">\n",
       "      <th></th>\n",
       "      <th>user_id</th>\n",
       "      <th>book_id</th>\n",
       "      <th>rating</th>\n",
       "    </tr>\n",
       "  </thead>\n",
       "  <tbody>\n",
       "    <tr>\n",
       "      <th>1099100</th>\n",
       "      <td>660259203ff8748bbda74d7282288dd0</td>\n",
       "      <td>18295863</td>\n",
       "      <td>4</td>\n",
       "    </tr>\n",
       "    <tr>\n",
       "      <th>1874790</th>\n",
       "      <td>27ff98e9a56c8ad23b5c3b37d0e838ad</td>\n",
       "      <td>6871008</td>\n",
       "      <td>5</td>\n",
       "    </tr>\n",
       "    <tr>\n",
       "      <th>2353983</th>\n",
       "      <td>44a1e0fd79b3e49a854d15a88e562c84</td>\n",
       "      <td>147923</td>\n",
       "      <td>5</td>\n",
       "    </tr>\n",
       "    <tr>\n",
       "      <th>2255203</th>\n",
       "      <td>0920eaa05410c565793b5117600336dc</td>\n",
       "      <td>118389</td>\n",
       "      <td>3</td>\n",
       "    </tr>\n",
       "    <tr>\n",
       "      <th>845896</th>\n",
       "      <td>d503047f12dbf56e2715db4bd92de364</td>\n",
       "      <td>1382</td>\n",
       "      <td>3</td>\n",
       "    </tr>\n",
       "    <tr>\n",
       "      <th>2555372</th>\n",
       "      <td>3b33bcf1ffa90e8bc3f13c5c377f3c8d</td>\n",
       "      <td>72911</td>\n",
       "      <td>0</td>\n",
       "    </tr>\n",
       "    <tr>\n",
       "      <th>92098</th>\n",
       "      <td>94b604b8e6092eef24e27c0304b4d5fe</td>\n",
       "      <td>30119</td>\n",
       "      <td>4</td>\n",
       "    </tr>\n",
       "    <tr>\n",
       "      <th>880934</th>\n",
       "      <td>525cdb3ad7d0ddcf4f27a097ecdcd33a</td>\n",
       "      <td>9756378</td>\n",
       "      <td>3</td>\n",
       "    </tr>\n",
       "    <tr>\n",
       "      <th>1898078</th>\n",
       "      <td>59bca8b9aecd9af6b08755b1494b8480</td>\n",
       "      <td>9771670</td>\n",
       "      <td>4</td>\n",
       "    </tr>\n",
       "    <tr>\n",
       "      <th>1685597</th>\n",
       "      <td>9704ed4503e822cbb3d3fce71b5110e8</td>\n",
       "      <td>395090</td>\n",
       "      <td>5</td>\n",
       "    </tr>\n",
       "  </tbody>\n",
       "</table>\n",
       "</div>"
      ],
      "text/plain": [
       "                                  user_id   book_id  rating\n",
       "1099100  660259203ff8748bbda74d7282288dd0  18295863       4\n",
       "1874790  27ff98e9a56c8ad23b5c3b37d0e838ad   6871008       5\n",
       "2353983  44a1e0fd79b3e49a854d15a88e562c84    147923       5\n",
       "2255203  0920eaa05410c565793b5117600336dc    118389       3\n",
       "845896   d503047f12dbf56e2715db4bd92de364      1382       3\n",
       "2555372  3b33bcf1ffa90e8bc3f13c5c377f3c8d     72911       0\n",
       "92098    94b604b8e6092eef24e27c0304b4d5fe     30119       4\n",
       "880934   525cdb3ad7d0ddcf4f27a097ecdcd33a   9756378       3\n",
       "1898078  59bca8b9aecd9af6b08755b1494b8480   9771670       4\n",
       "1685597  9704ed4503e822cbb3d3fce71b5110e8    395090       5"
      ]
     },
     "execution_count": 55,
     "metadata": {},
     "output_type": "execute_result"
    }
   ],
   "source": [
    "import random\n",
    "\n",
    "interactions_selected = interactions_selected.loc[interactions_selected['is_read']==1, ['user_id', 'book_id', 'rating']]\n",
    "interactions_selected = interactions_selected[interactions_selected['user_id'].isin(random.sample(list(interactions_selected['user_id'].unique()),\n",
    "                                                                                                 k=5000))]\n",
    "interactions_selected.sample(10)"
   ]
  },
  {
   "cell_type": "code",
   "execution_count": 56,
   "id": "f0598bf2",
   "metadata": {},
   "outputs": [
    {
     "data": {
      "text/plain": [
       "(21086, 3)"
      ]
     },
     "execution_count": 56,
     "metadata": {},
     "output_type": "execute_result"
    }
   ],
   "source": [
    "interactions_selected.shape\n"
   ]
  },
  {
   "cell_type": "markdown",
   "id": "0d18d9ce",
   "metadata": {},
   "source": [
    "## Data Preprocessing "
   ]
  },
  {
   "cell_type": "markdown",
   "id": "4c50f861",
   "metadata": {},
   "source": [
    "Agora, transformamos os dados disponíveis em matrizes esparsas que podem ser usadas em operações. Vamos criar o books_metadata, cada linha contém os pesos dos livros para cada feature. Antes, porém, vamos criar um dicionário de itens para referência futura.  "
   ]
  },
  {
   "cell_type": "code",
   "execution_count": 58,
   "id": "e596eba0",
   "metadata": {},
   "outputs": [],
   "source": [
    "item_dict = {}\n",
    "df = books_metadata[['book_id', 'title']].sort_values('book_id').reset_index()\n",
    "\n",
    "for i in range(df.shape[0]):\n",
    "    item_dict[(df.loc[i, 'book_id'])] = df.loc[i, 'title']"
   ]
  },
  {
   "cell_type": "code",
   "execution_count": 60,
   "id": "6b304b74",
   "metadata": {},
   "outputs": [
    {
     "data": {
      "text/html": [
       "<div>\n",
       "<style scoped>\n",
       "    .dataframe tbody tr th:only-of-type {\n",
       "        vertical-align: middle;\n",
       "    }\n",
       "\n",
       "    .dataframe tbody tr th {\n",
       "        vertical-align: top;\n",
       "    }\n",
       "\n",
       "    .dataframe thead th {\n",
       "        text-align: right;\n",
       "    }\n",
       "</style>\n",
       "<table border=\"1\" class=\"dataframe\">\n",
       "  <thead>\n",
       "    <tr style=\"text-align: right;\">\n",
       "      <th></th>\n",
       "      <th>book_id</th>\n",
       "      <th>average_rating_0.0</th>\n",
       "      <th>average_rating_1.0</th>\n",
       "      <th>average_rating_1.5</th>\n",
       "      <th>average_rating_2.0</th>\n",
       "      <th>average_rating_2.5</th>\n",
       "      <th>average_rating_3.0</th>\n",
       "      <th>average_rating_3.5</th>\n",
       "      <th>average_rating_4.0</th>\n",
       "      <th>average_rating_4.5</th>\n",
       "      <th>...</th>\n",
       "      <th>language_code_tel</th>\n",
       "      <th>language_code_tgl</th>\n",
       "      <th>language_code_tha</th>\n",
       "      <th>language_code_tlh</th>\n",
       "      <th>language_code_tur</th>\n",
       "      <th>language_code_ukr</th>\n",
       "      <th>language_code_unknown</th>\n",
       "      <th>language_code_urd</th>\n",
       "      <th>language_code_vie</th>\n",
       "      <th>language_code_zho</th>\n",
       "    </tr>\n",
       "  </thead>\n",
       "  <tbody>\n",
       "    <tr>\n",
       "      <th>0</th>\n",
       "      <td>234</td>\n",
       "      <td>0</td>\n",
       "      <td>0</td>\n",
       "      <td>0</td>\n",
       "      <td>0</td>\n",
       "      <td>0</td>\n",
       "      <td>0</td>\n",
       "      <td>0</td>\n",
       "      <td>1</td>\n",
       "      <td>0</td>\n",
       "      <td>...</td>\n",
       "      <td>0</td>\n",
       "      <td>0</td>\n",
       "      <td>0</td>\n",
       "      <td>0</td>\n",
       "      <td>0</td>\n",
       "      <td>0</td>\n",
       "      <td>1</td>\n",
       "      <td>0</td>\n",
       "      <td>0</td>\n",
       "      <td>0</td>\n",
       "    </tr>\n",
       "    <tr>\n",
       "      <th>1</th>\n",
       "      <td>236</td>\n",
       "      <td>0</td>\n",
       "      <td>0</td>\n",
       "      <td>0</td>\n",
       "      <td>0</td>\n",
       "      <td>0</td>\n",
       "      <td>0</td>\n",
       "      <td>0</td>\n",
       "      <td>1</td>\n",
       "      <td>0</td>\n",
       "      <td>...</td>\n",
       "      <td>0</td>\n",
       "      <td>0</td>\n",
       "      <td>0</td>\n",
       "      <td>0</td>\n",
       "      <td>0</td>\n",
       "      <td>0</td>\n",
       "      <td>1</td>\n",
       "      <td>0</td>\n",
       "      <td>0</td>\n",
       "      <td>0</td>\n",
       "    </tr>\n",
       "    <tr>\n",
       "      <th>2</th>\n",
       "      <td>241</td>\n",
       "      <td>0</td>\n",
       "      <td>0</td>\n",
       "      <td>0</td>\n",
       "      <td>0</td>\n",
       "      <td>0</td>\n",
       "      <td>0</td>\n",
       "      <td>1</td>\n",
       "      <td>0</td>\n",
       "      <td>0</td>\n",
       "      <td>...</td>\n",
       "      <td>0</td>\n",
       "      <td>0</td>\n",
       "      <td>0</td>\n",
       "      <td>0</td>\n",
       "      <td>0</td>\n",
       "      <td>0</td>\n",
       "      <td>1</td>\n",
       "      <td>0</td>\n",
       "      <td>0</td>\n",
       "      <td>0</td>\n",
       "    </tr>\n",
       "    <tr>\n",
       "      <th>3</th>\n",
       "      <td>244</td>\n",
       "      <td>0</td>\n",
       "      <td>0</td>\n",
       "      <td>0</td>\n",
       "      <td>0</td>\n",
       "      <td>0</td>\n",
       "      <td>0</td>\n",
       "      <td>0</td>\n",
       "      <td>1</td>\n",
       "      <td>0</td>\n",
       "      <td>...</td>\n",
       "      <td>0</td>\n",
       "      <td>0</td>\n",
       "      <td>0</td>\n",
       "      <td>0</td>\n",
       "      <td>0</td>\n",
       "      <td>0</td>\n",
       "      <td>0</td>\n",
       "      <td>0</td>\n",
       "      <td>0</td>\n",
       "      <td>0</td>\n",
       "    </tr>\n",
       "    <tr>\n",
       "      <th>4</th>\n",
       "      <td>254</td>\n",
       "      <td>0</td>\n",
       "      <td>0</td>\n",
       "      <td>0</td>\n",
       "      <td>0</td>\n",
       "      <td>0</td>\n",
       "      <td>0</td>\n",
       "      <td>0</td>\n",
       "      <td>1</td>\n",
       "      <td>0</td>\n",
       "      <td>...</td>\n",
       "      <td>0</td>\n",
       "      <td>0</td>\n",
       "      <td>0</td>\n",
       "      <td>0</td>\n",
       "      <td>0</td>\n",
       "      <td>0</td>\n",
       "      <td>1</td>\n",
       "      <td>0</td>\n",
       "      <td>0</td>\n",
       "      <td>0</td>\n",
       "    </tr>\n",
       "  </tbody>\n",
       "</table>\n",
       "<p>5 rows × 358 columns</p>\n",
       "</div>"
      ],
      "text/plain": [
       "   book_id  average_rating_0.0  average_rating_1.0  average_rating_1.5  \\\n",
       "0      234                   0                   0                   0   \n",
       "1      236                   0                   0                   0   \n",
       "2      241                   0                   0                   0   \n",
       "3      244                   0                   0                   0   \n",
       "4      254                   0                   0                   0   \n",
       "\n",
       "   average_rating_2.0  average_rating_2.5  average_rating_3.0  \\\n",
       "0                   0                   0                   0   \n",
       "1                   0                   0                   0   \n",
       "2                   0                   0                   0   \n",
       "3                   0                   0                   0   \n",
       "4                   0                   0                   0   \n",
       "\n",
       "   average_rating_3.5  average_rating_4.0  average_rating_4.5  ...  \\\n",
       "0                   0                   1                   0  ...   \n",
       "1                   0                   1                   0  ...   \n",
       "2                   1                   0                   0  ...   \n",
       "3                   0                   1                   0  ...   \n",
       "4                   0                   1                   0  ...   \n",
       "\n",
       "   language_code_tel  language_code_tgl  language_code_tha  language_code_tlh  \\\n",
       "0                  0                  0                  0                  0   \n",
       "1                  0                  0                  0                  0   \n",
       "2                  0                  0                  0                  0   \n",
       "3                  0                  0                  0                  0   \n",
       "4                  0                  0                  0                  0   \n",
       "\n",
       "   language_code_tur  language_code_ukr  language_code_unknown  \\\n",
       "0                  0                  0                      1   \n",
       "1                  0                  0                      1   \n",
       "2                  0                  0                      1   \n",
       "3                  0                  0                      0   \n",
       "4                  0                  0                      1   \n",
       "\n",
       "   language_code_urd  language_code_vie  language_code_zho  \n",
       "0                  0                  0                  0  \n",
       "1                  0                  0                  0  \n",
       "2                  0                  0                  0  \n",
       "3                  0                  0                  0  \n",
       "4                  0                  0                  0  \n",
       "\n",
       "[5 rows x 358 columns]"
      ]
     },
     "execution_count": 60,
     "metadata": {},
     "output_type": "execute_result"
    }
   ],
   "source": [
    "# dummify categorcial fetures\n",
    "books_metadata_selected_transformed = pd.get_dummies(books_metadata_selected, columns = ['average_rating', 'is_ebook', 'num_pages',\n",
    "                                                                                        'publication_year', 'ratings_count', \n",
    "                                                                                        'language_code'])\n",
    "\n",
    "books_metadata_selected_transformed = books_metadata_selected_transformed.sort_values('book_id').reset_index().drop('index', axis=1)\n",
    "books_metadata_selected_transformed.head(5)"
   ]
  },
  {
   "cell_type": "code",
   "execution_count": 61,
   "id": "4638364e",
   "metadata": {},
   "outputs": [
    {
     "data": {
      "text/plain": [
       "<36514x357 sparse matrix of type '<class 'numpy.uint8'>'\n",
       "\twith 219084 stored elements in Compressed Sparse Row format>"
      ]
     },
     "execution_count": 61,
     "metadata": {},
     "output_type": "execute_result"
    }
   ],
   "source": [
    "# convert to csr (compressed sparse row) matrix\n",
    "books_metadata_csr = csr_matrix(books_metadata_selected_transformed.drop('book_id', axis=1).values)\n",
    "books_metadata_csr"
   ]
  },
  {
   "cell_type": "markdown",
   "id": "4fc79cb8",
   "metadata": {},
   "source": [
    "- Agora, criamos uma matriz de interações, também com um dicionário para uso futuro de casos."
   ]
  },
  {
   "cell_type": "code",
   "execution_count": 63,
   "id": "bbc7b6ff",
   "metadata": {},
   "outputs": [
    {
     "data": {
      "text/html": [
       "<div>\n",
       "<style scoped>\n",
       "    .dataframe tbody tr th:only-of-type {\n",
       "        vertical-align: middle;\n",
       "    }\n",
       "\n",
       "    .dataframe tbody tr th {\n",
       "        vertical-align: top;\n",
       "    }\n",
       "\n",
       "    .dataframe thead th {\n",
       "        text-align: right;\n",
       "    }\n",
       "</style>\n",
       "<table border=\"1\" class=\"dataframe\">\n",
       "  <thead>\n",
       "    <tr style=\"text-align: right;\">\n",
       "      <th>book_id</th>\n",
       "      <th>234</th>\n",
       "      <th>236</th>\n",
       "      <th>244</th>\n",
       "      <th>254</th>\n",
       "      <th>284</th>\n",
       "      <th>285</th>\n",
       "      <th>286</th>\n",
       "      <th>290</th>\n",
       "      <th>291</th>\n",
       "      <th>292</th>\n",
       "      <th>...</th>\n",
       "      <th>35691576</th>\n",
       "      <th>35738258</th>\n",
       "      <th>35784849</th>\n",
       "      <th>35826743</th>\n",
       "      <th>35846198</th>\n",
       "      <th>35903748</th>\n",
       "      <th>35960350</th>\n",
       "      <th>36054248</th>\n",
       "      <th>36056405</th>\n",
       "      <th>36350410</th>\n",
       "    </tr>\n",
       "    <tr>\n",
       "      <th>user_id</th>\n",
       "      <th></th>\n",
       "      <th></th>\n",
       "      <th></th>\n",
       "      <th></th>\n",
       "      <th></th>\n",
       "      <th></th>\n",
       "      <th></th>\n",
       "      <th></th>\n",
       "      <th></th>\n",
       "      <th></th>\n",
       "      <th></th>\n",
       "      <th></th>\n",
       "      <th></th>\n",
       "      <th></th>\n",
       "      <th></th>\n",
       "      <th></th>\n",
       "      <th></th>\n",
       "      <th></th>\n",
       "      <th></th>\n",
       "      <th></th>\n",
       "      <th></th>\n",
       "    </tr>\n",
       "  </thead>\n",
       "  <tbody>\n",
       "    <tr>\n",
       "      <th>0019b485b2e71132a2cc6059cad87f26</th>\n",
       "      <td>0.0</td>\n",
       "      <td>0.0</td>\n",
       "      <td>0.0</td>\n",
       "      <td>0.0</td>\n",
       "      <td>0.0</td>\n",
       "      <td>0.0</td>\n",
       "      <td>0.0</td>\n",
       "      <td>0.0</td>\n",
       "      <td>0.0</td>\n",
       "      <td>0.0</td>\n",
       "      <td>...</td>\n",
       "      <td>0.0</td>\n",
       "      <td>0.0</td>\n",
       "      <td>0.0</td>\n",
       "      <td>0.0</td>\n",
       "      <td>0.0</td>\n",
       "      <td>0.0</td>\n",
       "      <td>0.0</td>\n",
       "      <td>0.0</td>\n",
       "      <td>0.0</td>\n",
       "      <td>0.0</td>\n",
       "    </tr>\n",
       "    <tr>\n",
       "      <th>00355d3fe92a6c0db46e20f152195fa7</th>\n",
       "      <td>0.0</td>\n",
       "      <td>0.0</td>\n",
       "      <td>0.0</td>\n",
       "      <td>0.0</td>\n",
       "      <td>0.0</td>\n",
       "      <td>0.0</td>\n",
       "      <td>0.0</td>\n",
       "      <td>0.0</td>\n",
       "      <td>0.0</td>\n",
       "      <td>0.0</td>\n",
       "      <td>...</td>\n",
       "      <td>0.0</td>\n",
       "      <td>0.0</td>\n",
       "      <td>0.0</td>\n",
       "      <td>0.0</td>\n",
       "      <td>0.0</td>\n",
       "      <td>0.0</td>\n",
       "      <td>0.0</td>\n",
       "      <td>0.0</td>\n",
       "      <td>0.0</td>\n",
       "      <td>0.0</td>\n",
       "    </tr>\n",
       "    <tr>\n",
       "      <th>004f7fe78d7909a898fac66d7eac9ec2</th>\n",
       "      <td>0.0</td>\n",
       "      <td>0.0</td>\n",
       "      <td>0.0</td>\n",
       "      <td>0.0</td>\n",
       "      <td>0.0</td>\n",
       "      <td>0.0</td>\n",
       "      <td>0.0</td>\n",
       "      <td>0.0</td>\n",
       "      <td>0.0</td>\n",
       "      <td>0.0</td>\n",
       "      <td>...</td>\n",
       "      <td>0.0</td>\n",
       "      <td>0.0</td>\n",
       "      <td>0.0</td>\n",
       "      <td>0.0</td>\n",
       "      <td>0.0</td>\n",
       "      <td>0.0</td>\n",
       "      <td>0.0</td>\n",
       "      <td>0.0</td>\n",
       "      <td>0.0</td>\n",
       "      <td>0.0</td>\n",
       "    </tr>\n",
       "    <tr>\n",
       "      <th>00677ed28927d8f3b3984a00a800decf</th>\n",
       "      <td>0.0</td>\n",
       "      <td>0.0</td>\n",
       "      <td>0.0</td>\n",
       "      <td>0.0</td>\n",
       "      <td>0.0</td>\n",
       "      <td>0.0</td>\n",
       "      <td>0.0</td>\n",
       "      <td>0.0</td>\n",
       "      <td>0.0</td>\n",
       "      <td>0.0</td>\n",
       "      <td>...</td>\n",
       "      <td>0.0</td>\n",
       "      <td>0.0</td>\n",
       "      <td>0.0</td>\n",
       "      <td>0.0</td>\n",
       "      <td>0.0</td>\n",
       "      <td>0.0</td>\n",
       "      <td>0.0</td>\n",
       "      <td>0.0</td>\n",
       "      <td>0.0</td>\n",
       "      <td>0.0</td>\n",
       "    </tr>\n",
       "    <tr>\n",
       "      <th>00729e6ca632b3d3e442b4da2f1dc13c</th>\n",
       "      <td>0.0</td>\n",
       "      <td>0.0</td>\n",
       "      <td>0.0</td>\n",
       "      <td>0.0</td>\n",
       "      <td>0.0</td>\n",
       "      <td>0.0</td>\n",
       "      <td>0.0</td>\n",
       "      <td>0.0</td>\n",
       "      <td>0.0</td>\n",
       "      <td>0.0</td>\n",
       "      <td>...</td>\n",
       "      <td>0.0</td>\n",
       "      <td>0.0</td>\n",
       "      <td>0.0</td>\n",
       "      <td>0.0</td>\n",
       "      <td>0.0</td>\n",
       "      <td>0.0</td>\n",
       "      <td>0.0</td>\n",
       "      <td>0.0</td>\n",
       "      <td>0.0</td>\n",
       "      <td>0.0</td>\n",
       "    </tr>\n",
       "  </tbody>\n",
       "</table>\n",
       "<p>5 rows × 6343 columns</p>\n",
       "</div>"
      ],
      "text/plain": [
       "book_id                           234       236       244       254       \\\n",
       "user_id                                                                    \n",
       "0019b485b2e71132a2cc6059cad87f26       0.0       0.0       0.0       0.0   \n",
       "00355d3fe92a6c0db46e20f152195fa7       0.0       0.0       0.0       0.0   \n",
       "004f7fe78d7909a898fac66d7eac9ec2       0.0       0.0       0.0       0.0   \n",
       "00677ed28927d8f3b3984a00a800decf       0.0       0.0       0.0       0.0   \n",
       "00729e6ca632b3d3e442b4da2f1dc13c       0.0       0.0       0.0       0.0   \n",
       "\n",
       "book_id                           284       285       286       290       \\\n",
       "user_id                                                                    \n",
       "0019b485b2e71132a2cc6059cad87f26       0.0       0.0       0.0       0.0   \n",
       "00355d3fe92a6c0db46e20f152195fa7       0.0       0.0       0.0       0.0   \n",
       "004f7fe78d7909a898fac66d7eac9ec2       0.0       0.0       0.0       0.0   \n",
       "00677ed28927d8f3b3984a00a800decf       0.0       0.0       0.0       0.0   \n",
       "00729e6ca632b3d3e442b4da2f1dc13c       0.0       0.0       0.0       0.0   \n",
       "\n",
       "book_id                           291       292       ...  35691576  35738258  \\\n",
       "user_id                                               ...                       \n",
       "0019b485b2e71132a2cc6059cad87f26       0.0       0.0  ...       0.0       0.0   \n",
       "00355d3fe92a6c0db46e20f152195fa7       0.0       0.0  ...       0.0       0.0   \n",
       "004f7fe78d7909a898fac66d7eac9ec2       0.0       0.0  ...       0.0       0.0   \n",
       "00677ed28927d8f3b3984a00a800decf       0.0       0.0  ...       0.0       0.0   \n",
       "00729e6ca632b3d3e442b4da2f1dc13c       0.0       0.0  ...       0.0       0.0   \n",
       "\n",
       "book_id                           35784849  35826743  35846198  35903748  \\\n",
       "user_id                                                                    \n",
       "0019b485b2e71132a2cc6059cad87f26       0.0       0.0       0.0       0.0   \n",
       "00355d3fe92a6c0db46e20f152195fa7       0.0       0.0       0.0       0.0   \n",
       "004f7fe78d7909a898fac66d7eac9ec2       0.0       0.0       0.0       0.0   \n",
       "00677ed28927d8f3b3984a00a800decf       0.0       0.0       0.0       0.0   \n",
       "00729e6ca632b3d3e442b4da2f1dc13c       0.0       0.0       0.0       0.0   \n",
       "\n",
       "book_id                           35960350  36054248  36056405  36350410  \n",
       "user_id                                                                   \n",
       "0019b485b2e71132a2cc6059cad87f26       0.0       0.0       0.0       0.0  \n",
       "00355d3fe92a6c0db46e20f152195fa7       0.0       0.0       0.0       0.0  \n",
       "004f7fe78d7909a898fac66d7eac9ec2       0.0       0.0       0.0       0.0  \n",
       "00677ed28927d8f3b3984a00a800decf       0.0       0.0       0.0       0.0  \n",
       "00729e6ca632b3d3e442b4da2f1dc13c       0.0       0.0       0.0       0.0  \n",
       "\n",
       "[5 rows x 6343 columns]"
      ]
     },
     "execution_count": 63,
     "metadata": {},
     "output_type": "execute_result"
    }
   ],
   "source": [
    "user_book_interaction = pd.pivot_table(interactions_selected, index='user_id', columns='book_id', values='rating')\n",
    "\n",
    "# fill missing values with 0\n",
    "user_book_interaction = user_book_interaction.fillna(0)\n",
    "\n",
    "user_book_interaction.head()"
   ]
  },
  {
   "cell_type": "code",
   "execution_count": 64,
   "id": "8228eb84",
   "metadata": {},
   "outputs": [],
   "source": [
    "user_id = list(user_book_interaction.index)\n",
    "user_dict = {}\n",
    "counter = 0\n",
    "\n",
    "for i in user_id:\n",
    "    user_dict[i] = counter\n",
    "    counter += 1"
   ]
  },
  {
   "cell_type": "code",
   "execution_count": 66,
   "id": "2ac99604",
   "metadata": {},
   "outputs": [
    {
     "data": {
      "text/plain": [
       "<5000x6343 sparse matrix of type '<class 'numpy.float64'>'\n",
       "\twith 19789 stored elements in Compressed Sparse Row format>"
      ]
     },
     "execution_count": 66,
     "metadata": {},
     "output_type": "execute_result"
    }
   ],
   "source": [
    "# convert to csr matrix\n",
    "user_book_interaction_csr = csr_matrix(user_book_interaction.values)\n",
    "user_book_interaction_csr"
   ]
  },
  {
   "cell_type": "markdown",
   "id": "e21e4f79",
   "metadata": {},
   "source": [
    "# Model Training"
   ]
  },
  {
   "cell_type": "code",
   "execution_count": 70,
   "id": "75dc2555",
   "metadata": {},
   "outputs": [],
   "source": [
    "model = LightFM(loss='warp',\n",
    "                random_state=2016,\n",
    "                learning_rate=0.90,\n",
    "                no_components=150,\n",
    "                user_alpha=0.000005)\n",
    "\n",
    "model = model.fit(user_book_interaction_csr,\n",
    "                  epochs=100,\n",
    "                  num_threads=16, verbose=False)"
   ]
  },
  {
   "cell_type": "code",
   "execution_count": 81,
   "id": "2b42e994",
   "metadata": {},
   "outputs": [],
   "source": [
    "def sample_recommendation_user(model, interactions, user_id, user_dict,\n",
    "                              item_dict, threshold=0, nrec_items=5, show=True):\n",
    "    \n",
    "    n_users, n_items = interactions.shape\n",
    "    user_x = user_dict[user_id]\n",
    "    scores = pd.Series(model.predict(user_x, np.arange(n_items), item_features=books_metadata_csr))\n",
    "    scores.index = interactions.columns\n",
    "    scores = list(pd.Series(scores.sort_values(ascending=False).index))\n",
    "    \n",
    "    known_items = list(pd.Series(interactions.loc[user_id, :]\\\n",
    "                                [interactions.loc[user_id, :] > threshold].index).sort_values(ascending=False))\n",
    "    \n",
    "    scores = [x for x in scores if x not in known_items]\n",
    "    return_score_list = scores[0:nrec_items]\n",
    "    known_items = list(pd.Series(known_items).apply(lambda x: item_dict[x]))\n",
    "    scores = list(pd.Series(return_score_list).apply(lambda x: item_dict[x]))\n",
    "    \n",
    "    if show == True:\n",
    "        print(\"User: \" + str(user_id))\n",
    "        print(\"Known Likes: \")\n",
    "        counter = 1\n",
    "        for i in known_items:\n",
    "            print(str(counter) + '- ' + i)\n",
    "            counter += 1\n",
    "            \n",
    "        print(\"\\n Recommended Items:\")\n",
    "        counter = 1\n",
    "        for i in scores:\n",
    "            print(str(counter) + '- ' + i)\n",
    "            counter += 1"
   ]
  },
  {
   "cell_type": "code",
   "execution_count": 83,
   "id": "4c5bc5db",
   "metadata": {},
   "outputs": [
    {
     "name": "stdout",
     "output_type": "stream",
     "text": [
      "User: 00677ed28927d8f3b3984a00a800decf\n",
      "Known Likes: \n",
      "1- Milk and Honey\n",
      "2- Selected Poems\n",
      "3- Hamlet\n",
      "4- The Odyssey\n",
      "\n",
      " Recommended Items:\n",
      "1- King Me\n",
      "2- Space, in Chains\n",
      "3- Tin House: Rehab\n",
      "4- Mi chica revolucionaria\n",
      "5- The Psalms with Commentary\n"
     ]
    }
   ],
   "source": [
    "sample_recommendation_user(model, user_book_interaction, '00677ed28927d8f3b3984a00a800decf', user_dict, item_dict)"
   ]
  },
  {
   "cell_type": "code",
   "execution_count": null,
   "id": "5f3b2081",
   "metadata": {},
   "outputs": [],
   "source": []
  }
 ],
 "metadata": {
  "kernelspec": {
   "display_name": "Python 3 (ipykernel)",
   "language": "python",
   "name": "python3"
  },
  "language_info": {
   "codemirror_mode": {
    "name": "ipython",
    "version": 3
   },
   "file_extension": ".py",
   "mimetype": "text/x-python",
   "name": "python",
   "nbconvert_exporter": "python",
   "pygments_lexer": "ipython3",
   "version": "3.9.12"
  }
 },
 "nbformat": 4,
 "nbformat_minor": 5
}
